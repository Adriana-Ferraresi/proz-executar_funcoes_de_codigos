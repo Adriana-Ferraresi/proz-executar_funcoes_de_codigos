{
  "nbformat": 4,
  "nbformat_minor": 0,
  "metadata": {
    "colab": {
      "provenance": [],
      "authorship_tag": "ABX9TyODl5FPemELlcyaiIS9mm3w",
      "include_colab_link": true
    },
    "kernelspec": {
      "name": "python3",
      "display_name": "Python 3"
    },
    "language_info": {
      "name": "python"
    }
  },
  "cells": [
    {
      "cell_type": "markdown",
      "metadata": {
        "id": "view-in-github",
        "colab_type": "text"
      },
      "source": [
        "<a href=\"https://colab.research.google.com/github/Crisfer-code/Proz-executar_funcoes_cod/blob/main/Introd_progr_Atv3_Codepark1.ipynb\" target=\"_parent\"><img src=\"https://colab.research.google.com/assets/colab-badge.svg\" alt=\"Open In Colab\"/></a>"
      ]
    },
    {
      "cell_type": "markdown",
      "source": [
        "# Executar funções de código"
      ],
      "metadata": {
        "id": "OO9fOGmHXrDQ"
      }
    },
    {
      "cell_type": "code",
      "execution_count": 1,
      "metadata": {
        "colab": {
          "base_uri": "https://localhost:8080/"
        },
        "id": "5pgKPSQO2qz9",
        "outputId": "aa99cd54-5492-4639-ca10-288a9b3eb017"
      },
      "outputs": [
        {
          "output_type": "stream",
          "name": "stdout",
          "text": [
            "15\n",
            "5\n",
            "50\n",
            "2.0\n",
            "0\n"
          ]
        }
      ],
      "source": [
        "def calculadora(a, b, operacao):\n",
        "   if operacao == 1:\n",
        "        return a + b\n",
        "   elif operacao == 2:\n",
        "        return a - b\n",
        "   elif operacao == 3:\n",
        "       return a * b\n",
        "   elif operacao == 4:\n",
        "       return a / b\n",
        "   else:\n",
        "     return 0\n",
        "\n",
        "\n",
        "print(calculadora(10, 5, 1))\n",
        "print(calculadora(10, 5, 2))\n",
        "print(calculadora(10, 5, 3))\n",
        "print(calculadora(10, 5, 4))\n",
        "print(calculadora(10, 5, 5))"
      ]
    },
    {
      "cell_type": "markdown",
      "source": [],
      "metadata": {
        "id": "3QaDPPqEXmgB"
      }
    }
  ]
}